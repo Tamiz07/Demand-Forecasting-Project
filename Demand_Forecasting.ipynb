{
  "nbformat": 4,
  "nbformat_minor": 0,
  "metadata": {
    "colab": {
      "provenance": [],
      "authorship_tag": "ABX9TyOaFQ9lXF6BXx0wsKV7t21H",
      "include_colab_link": true
    },
    "kernelspec": {
      "name": "python3",
      "display_name": "Python 3"
    },
    "language_info": {
      "name": "python"
    }
  },
  "cells": [
    {
      "cell_type": "markdown",
      "metadata": {
        "id": "view-in-github",
        "colab_type": "text"
      },
      "source": [
        "<a href=\"https://colab.research.google.com/github/Tamiz07/Demand-Forecasting-Project/blob/main/Demand_Forecasting.ipynb\" target=\"_parent\"><img src=\"https://colab.research.google.com/assets/colab-badge.svg\" alt=\"Open In Colab\"/></a>"
      ]
    },
    {
      "cell_type": "code",
      "execution_count": null,
      "metadata": {
        "id": "bGxQq6QFhlBo"
      },
      "outputs": [],
      "source": [
        "import os "
      ]
    },
    {
      "cell_type": "code",
      "source": [
        "import pandas as pd\n",
        "import numpy as np\n",
        "import matplotlib.pyplot as plt\n",
        "import seaborn as sns\n",
        "from sklearn import metrics\n",
        "from xgboost import XGBRegressor\n",
        "from sklearn.metrics import mean_squared_error, mean_absolute_error, r2_score\n",
        "from sklearn.ensemble import RandomForestRegressor\n",
        "from sklearn.linear_model import LinearRegression\n",
        "from sklearn.preprocessing import MinMaxScaler\n",
        "from sklearn.model_selection import train_test_split"
      ],
      "metadata": {
        "id": "F_U3OrYHJNEH"
      },
      "execution_count": null,
      "outputs": []
    },
    {
      "cell_type": "markdown",
      "source": [
        "### Data Cleaning :"
      ],
      "metadata": {
        "id": "_Af1SJXLMTyh"
      }
    },
    {
      "cell_type": "code",
      "source": [
        "df = pd.read_csv(\"/content/train 2.csv\")\n",
        "df.head(5)"
      ],
      "metadata": {
        "id": "f5rrPnpnMPrZ"
      },
      "execution_count": null,
      "outputs": []
    },
    {
      "cell_type": "code",
      "source": [
        "df.info()"
      ],
      "metadata": {
        "id": "t3R3_F32Mu9h"
      },
      "execution_count": null,
      "outputs": []
    },
    {
      "cell_type": "code",
      "source": [
        "df.describe()"
      ],
      "metadata": {
        "id": "de_ZwXzdM9eW"
      },
      "execution_count": null,
      "outputs": []
    },
    {
      "cell_type": "code",
      "source": [
        "df = df.drop_duplicates()"
      ],
      "metadata": {
        "id": "lRBDjBZbkiqH"
      },
      "execution_count": null,
      "outputs": []
    },
    {
      "cell_type": "code",
      "source": [
        "df['date'] = pd.to_datetime(df['date'])\n",
        "df.info()"
      ],
      "metadata": {
        "id": "Ih7AUjaHOYsz"
      },
      "execution_count": null,
      "outputs": []
    },
    {
      "cell_type": "code",
      "source": [
        "monthly_sales = df.groupby(pd.Grouper(key='date', freq='M')).sum().reset_index()"
      ],
      "metadata": {
        "id": "Vkq0XLkvjmCO"
      },
      "execution_count": null,
      "outputs": []
    },
    {
      "cell_type": "code",
      "source": [
        "monthly_sales.head(10)"
      ],
      "metadata": {
        "id": "B11AdJPNjxRp"
      },
      "execution_count": null,
      "outputs": []
    },
    {
      "cell_type": "code",
      "source": [
        "plt.figure(figsize=(15, 5))\n",
        "plt.plot(monthly_sales['date'], monthly_sales['sales'])\n",
        "plt.xlabel('Date')\n",
        "plt.ylabel('sales')\n",
        "plt.title('Monthly Customer Sales')\n",
        "plt.show()"
      ],
      "metadata": {
        "id": "OhF6G7aOkSdE"
      },
      "execution_count": null,
      "outputs": []
    },
    {
      "cell_type": "code",
      "source": [
        "monthly_sales['sales_diff'] = monthly_sales['sales'].diff()\n",
        "monthly_sales.head(10)"
      ],
      "metadata": {
        "id": "qDDAWYSymEVi"
      },
      "execution_count": null,
      "outputs": []
    },
    {
      "cell_type": "code",
      "source": [
        "monthly_sales = monthly_sales.dropna()\n",
        "monthly_sales.head(10)"
      ],
      "metadata": {
        "id": "phQl7FWZnlUD"
      },
      "execution_count": null,
      "outputs": []
    },
    {
      "cell_type": "code",
      "source": [
        "plt.figure(figsize=(15, 5))\n",
        "plt.plot(monthly_sales['date'], monthly_sales['sales_diff'])\n",
        "plt.xlabel('Date')\n",
        "plt.ylabel('Sales_diff')\n",
        "plt.show()"
      ],
      "metadata": {
        "id": "TfKU2u3SnxqE"
      },
      "execution_count": null,
      "outputs": []
    },
    {
      "cell_type": "code",
      "source": [
        "data = monthly_sales.drop(['date', 'item', 'store', 'sales'], axis=1)"
      ],
      "metadata": {
        "id": "rLmyQD_ooYwU"
      },
      "execution_count": null,
      "outputs": []
    },
    {
      "cell_type": "code",
      "source": [
        "for i in range(1, 13):\n",
        "  col_name = 'month_' + str(i)\n",
        "  data[col_name] = data['sales_diff'].shift(i)\n",
        "data = data.dropna().reset_index(drop=True)\n",
        "data.head(10)"
      ],
      "metadata": {
        "id": "88ZTc-pqpMFp"
      },
      "execution_count": null,
      "outputs": []
    },
    {
      "cell_type": "markdown",
      "source": [
        "Split the data into train and test"
      ],
      "metadata": {
        "id": "jAFwUI2VrL9_"
      }
    },
    {
      "cell_type": "code",
      "source": [
        "data.info()"
      ],
      "metadata": {
        "id": "2UrbYpkxu5e2"
      },
      "execution_count": null,
      "outputs": []
    },
    {
      "cell_type": "code",
      "source": [
        "train_data = data[:-3]\n",
        "test_data = data[-3:]\n",
        "print('Train Data Shape : ', train_data.shape)\n",
        "print('Test Data Shape : ', test_data.shape)"
      ],
      "metadata": {
        "id": "4E2lI1FKrK_u"
      },
      "execution_count": null,
      "outputs": []
    },
    {
      "cell_type": "code",
      "source": [
        "scaler = MinMaxScaler(feature_range=(-1, 1))\n",
        "scaler.fit(train_data)\n",
        "train_data = scaler.transform(train_data)\n",
        "test_data = scaler.transform(test_data)"
      ],
      "metadata": {
        "id": "QdSvdxUouGTJ"
      },
      "execution_count": null,
      "outputs": []
    },
    {
      "cell_type": "code",
      "source": [
        "x_train, y_train = train_data[:,1:], train_data[:,0:1]\n",
        "x_test, y_test = test_data[:,1:], test_data[:,0:1]\n",
        "y_train = y_train.ravel()\n",
        "y_test = y_test.ravel()\n",
        "print('X_train shape : ', x_train.shape)\n",
        "print('Y_train shape : ', y_train.shape)\n",
        "print('X_test shape : ', x_test.shape)\n",
        "print('Y_test shape : ', y_test.shape)"
      ],
      "metadata": {
        "id": "nV8siV5DwQ4A"
      },
      "execution_count": null,
      "outputs": []
    },
    {
      "cell_type": "markdown",
      "source": [
        "Make prediction dataframe to merge the predicted sales price of all trained algs"
      ],
      "metadata": {
        "id": "6yclXd0ixhyI"
      }
    },
    {
      "cell_type": "code",
      "source": [
        "sales_dates = monthly_sales['date'][-3:].reset_index(drop=True)\n",
        "predict_df = pd.DataFrame(sales_dates)"
      ],
      "metadata": {
        "id": "WS8XeGhIxdNE"
      },
      "execution_count": null,
      "outputs": []
    },
    {
      "cell_type": "code",
      "source": [
        "act_sales = monthly_sales['sales'][-3:].to_list()\n",
        "print(act_sales)"
      ],
      "metadata": {
        "id": "PhQSTG_sykta"
      },
      "execution_count": null,
      "outputs": []
    },
    {
      "cell_type": "markdown",
      "source": [
        "To create linear regression model and predicted output"
      ],
      "metadata": {
        "id": "8CxritAVzQOR"
      }
    },
    {
      "cell_type": "code",
      "source": [
        "lr_model = LinearRegression()\n",
        "lr_model.fit(x_train, y_train)\n",
        "lr_pre = lr_model.predict(x_test)"
      ],
      "metadata": {
        "id": "F79YLGqZzIvP"
      },
      "execution_count": null,
      "outputs": []
    },
    {
      "cell_type": "code",
      "source": [
        "lr_pre = lr_pre.reshape(-1, 1)\n",
        "lr_pre_test = np.concatenate([lr_pre, x_test], axis=1)\n",
        "lr_pre_test = scaler.inverse_transform(lr_pre_test)"
      ],
      "metadata": {
        "id": "giA89TtXzqV5"
      },
      "execution_count": null,
      "outputs": []
    },
    {
      "cell_type": "code",
      "source": [
        "result = []\n",
        "for i in range(0, len(lr_pre_test)):\n",
        "  result.append(lr_pre_test[i][0] + act_sales[i])\n",
        "lr_pre_set = pd.Series(result, name='Linear Prediction')\n",
        "predict_df = predict_df.merge(lr_pre_set, left_index=True, right_index=True)"
      ],
      "metadata": {
        "id": "z8sPwF6m0Xwv"
      },
      "execution_count": null,
      "outputs": []
    },
    {
      "cell_type": "code",
      "source": [
        "predict_df"
      ],
      "metadata": {
        "id": "UADnJDXF1Si_"
      },
      "execution_count": null,
      "outputs": []
    },
    {
      "cell_type": "code",
      "source": [
        "lr_mse = np.sqrt(mean_squared_error(predict_df['Linear Prediction'], monthly_sales['sales'][-3:]))\n",
        "lr_mae = mean_absolute_error(predict_df['Linear Prediction'], monthly_sales['sales'][-3:])\n",
        "lr_r2 = r2_score(predict_df['Linear Prediction'], monthly_sales['sales'][-3:])\n",
        "print('Linear Regression MSE : ', lr_mse)\n",
        "print('Linear Regression MAE : ', lr_mae)\n",
        "print('Linear Regression R2 : ', lr_r2)"
      ],
      "metadata": {
        "id": "655OQpA93OFP"
      },
      "execution_count": null,
      "outputs": []
    },
    {
      "cell_type": "code",
      "source": [
        "plt.figure(figsize=(15, 5))\n",
        "plt.plot(monthly_sales['date'], monthly_sales['sales'])\n",
        "plt.plot(predict_df['date'], predict_df['Linear Prediction'])\n",
        "plt.title('Customer sales Forecast using LR Model')\n",
        "plt.xlabel('Date')\n",
        "plt.ylabel('Sales')\n",
        "plt.legend(['Actual sales', 'Predicted sales'])\n",
        "plt.show()"
      ],
      "metadata": {
        "id": "h-83M8565qSB"
      },
      "execution_count": null,
      "outputs": []
    }
  ]
}